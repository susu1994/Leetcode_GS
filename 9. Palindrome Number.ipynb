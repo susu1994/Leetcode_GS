{
 "cells": [
  {
   "cell_type": "markdown",
   "id": "843fc3b1",
   "metadata": {},
   "source": [
    "Given an integer x, return true if x is a \n",
    "palindrome\n",
    ", and false otherwise.\n",
    "\n",
    " \n",
    "\n",
    "Example 1:\n",
    "\n",
    "Input: x = 121\n",
    "Output: true\n",
    "Explanation: 121 reads as 121 from left to right and from right to left.\n",
    "Example 2:\n",
    "\n",
    "Input: x = -121\n",
    "Output: false\n",
    "Explanation: From left to right, it reads -121. From right to left, it becomes 121-. Therefore it is not a palindrome.\n",
    "Example 3:\n",
    "\n",
    "Input: x = 10\n",
    "Output: false\n",
    "Explanation: Reads 01 from right to left. Therefore it is not a palindrome.\n"
   ]
  },
  {
   "cell_type": "markdown",
   "id": "55cc0591",
   "metadata": {},
   "source": [
    "笨办法 转成list 从0~half 比较后半段\n",
    "聪明办法 int 10% reverise 一半int"
   ]
  },
  {
   "cell_type": "code",
   "execution_count": 3,
   "id": "9bc25124",
   "metadata": {},
   "outputs": [
    {
     "data": {
      "text/plain": [
       "False"
      ]
     },
     "execution_count": 3,
     "metadata": {},
     "output_type": "execute_result"
    }
   ],
   "source": [
    "class Solution:\n",
    "    def isPalindrome1(self, x: int) -> bool:\n",
    "        if x<0:\n",
    "            return False\n",
    "        nums=str(x)\n",
    "        for a in range(int(len(nums)/2)):\n",
    "            if nums[a] != nums[len(nums)-a-1]:\n",
    "                return False\n",
    "        return True\n",
    "    def isPalindrome2(self, x: int) -> bool:\n",
    "        if x<0 or (x%10==0 and x !=0):\n",
    "            return False\n",
    "\n",
    "        revers=0\n",
    "        while x>revers:\n",
    "            revers=revers*10+x%10\n",
    "            x=x//10\n",
    "        \n",
    "        return (x==revers) or (revers//10==x)\n",
    "        return True\n",
    "test=Solution()\n",
    "test.isPalindrome2(122)"
   ]
  },
  {
   "cell_type": "code",
   "execution_count": null,
   "id": "d1b280d4",
   "metadata": {},
   "outputs": [],
   "source": []
  }
 ],
 "metadata": {
  "kernelspec": {
   "display_name": "Python 3 (ipykernel)",
   "language": "python",
   "name": "python3"
  },
  "language_info": {
   "codemirror_mode": {
    "name": "ipython",
    "version": 3
   },
   "file_extension": ".py",
   "mimetype": "text/x-python",
   "name": "python",
   "nbconvert_exporter": "python",
   "pygments_lexer": "ipython3",
   "version": "3.9.7"
  }
 },
 "nbformat": 4,
 "nbformat_minor": 5
}
