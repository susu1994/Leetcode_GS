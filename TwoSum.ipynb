{
 "cells": [
  {
   "cell_type": "markdown",
   "id": "65bdd81a",
   "metadata": {},
   "source": [
    "Given an array of integers nums and an integer target, return indices of the two numbers such that they add up to target.\n",
    "\n",
    "You may assume that each input would have exactly one solution, and you may not use the same element twice.\n",
    "\n",
    "You can return the answer in any order.\n",
    "\n",
    " \n",
    "\n",
    "Example 1:\n",
    "\n",
    "Input: nums = [2,7,11,15], target = 9\n",
    "Output: [0,1]\n",
    "Explanation: Because nums[0] + nums[1] == 9, we return [0, 1].\n",
    "Example 2:\n",
    "\n",
    "Input: nums = [3,2,4], target = 6\n",
    "Output: [1,2]\n",
    "Example 3:\n",
    "\n",
    "Input: nums = [3,3], target = 6\n",
    "Output: [0,1]\n",
    " \n",
    "\n",
    "Constraints:\n",
    "\n",
    "2 <= nums.length <= 104\n",
    "-109 <= nums[i] <= 109\n",
    "-109 <= target <= 109\n",
    "Only one valid answer exists."
   ]
  },
  {
   "cell_type": "markdown",
   "id": "805a5977",
   "metadata": {},
   "source": [
    "1.笨办法直接暴力one by one 双指针对比 O[n^2]"
   ]
  },
  {
   "cell_type": "code",
   "execution_count": 36,
   "id": "57cd54c1",
   "metadata": {},
   "outputs": [],
   "source": [
    "from typing import List\n",
    "class Solution:\n",
    "    def twoSum1(self, nums: List[int], target: int) -> List[int]:\n",
    "        for a in range(len(nums)):\n",
    "            for b in range(a+1,len(nums)):\n",
    "                if nums[a]+nums[b]==target:\n",
    "                    return [a,b]\n",
    "\n",
    "# <!-- Hash table 遍历一遍 每次查询target-nums[i]是否存在于Hashtable.\n",
    "# one-pass： 遍历的同时创建Hashtable -->\n",
    "# dict 字典 是Python中典型hashtable dict={}最方便\n",
    "\n",
    "    def twoSum2(self, nums: List[int], target: int) -> List[int]:\n",
    "        pydict = {}\n",
    "        for a in range(len(nums)):\n",
    "            compare = target-nums[a]\n",
    "            if compare in pydict:\n",
    "                return [pydict[compare],a]\n",
    "            pydict[nums[a]]=a"
   ]
  },
  {
   "cell_type": "code",
   "execution_count": 38,
   "id": "32d9cdb9",
   "metadata": {},
   "outputs": [
    {
     "data": {
      "text/plain": [
       "[0, 1]"
      ]
     },
     "execution_count": 38,
     "metadata": {},
     "output_type": "execute_result"
    }
   ],
   "source": [
    "test = Solution()\n",
    "test.twoSum2([1,2,3],3)"
   ]
  },
  {
   "cell_type": "code",
   "execution_count": null,
   "id": "b747531a",
   "metadata": {},
   "outputs": [],
   "source": []
  }
 ],
 "metadata": {
  "kernelspec": {
   "display_name": "Python 3 (ipykernel)",
   "language": "python",
   "name": "python3"
  },
  "language_info": {
   "codemirror_mode": {
    "name": "ipython",
    "version": 3
   },
   "file_extension": ".py",
   "mimetype": "text/x-python",
   "name": "python",
   "nbconvert_exporter": "python",
   "pygments_lexer": "ipython3",
   "version": "3.9.7"
  }
 },
 "nbformat": 4,
 "nbformat_minor": 5
}
