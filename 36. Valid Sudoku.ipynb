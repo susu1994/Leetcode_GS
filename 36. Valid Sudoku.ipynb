{
 "cells": [
  {
   "cell_type": "code",
   "execution_count": null,
   "id": "cf35f0e0",
   "metadata": {},
   "outputs": [],
   "source": []
  },
  {
   "cell_type": "code",
   "execution_count": 37,
   "id": "af2db67c",
   "metadata": {},
   "outputs": [
    {
     "name": "stdout",
     "output_type": "stream",
     "text": [
      "[(0, '8'), ('8', 0), (0, 0, '8'), (0, '3'), ('3', 1), (0, 0, '3'), (0, '7'), ('7', 4), (0, 1, '7'), (1, '6'), ('6', 0), (0, 0, '6'), (1, '1'), ('1', 3), (0, 1, '1'), (1, '9'), ('9', 4), (0, 1, '9'), (1, '5'), ('5', 5), (0, 1, '5'), (2, '9'), ('9', 1), (0, 0, '9'), (2, '8'), ('8', 2), (0, 0, '8'), (2, '6'), ('6', 7), (0, 2, '6'), (3, '8'), ('8', 0), (1, 0, '8'), (3, '6'), ('6', 4), (1, 1, '6'), (3, '3'), ('3', 8), (1, 2, '3'), (4, '4'), ('4', 0), (1, 0, '4'), (4, '8'), ('8', 3), (1, 1, '8'), (4, '3'), ('3', 5), (1, 1, '3'), (4, '1'), ('1', 8), (1, 2, '1'), (5, '7'), ('7', 0), (1, 0, '7'), (5, '2'), ('2', 4), (1, 1, '2'), (5, '6'), ('6', 8), (1, 2, '6'), (6, '6'), ('6', 1), (2, 0, '6'), (6, '2'), ('2', 6), (2, 2, '2'), (6, '8'), ('8', 7), (2, 2, '8'), (7, '4'), ('4', 3), (2, 1, '4'), (7, '1'), ('1', 4), (2, 1, '1'), (7, '9'), ('9', 5), (2, 1, '9'), (7, '5'), ('5', 8), (2, 2, '5'), (8, '8'), ('8', 4), (2, 1, '8'), (8, '7'), ('7', 7), (2, 2, '7'), (8, '9'), ('9', 8), (2, 2, '9')]\n"
     ]
    },
    {
     "data": {
      "text/plain": [
       "False"
      ]
     },
     "execution_count": 37,
     "metadata": {},
     "output_type": "execute_result"
    }
   ],
   "source": [
    "from typing import List\n",
    "from collections import Counter\n",
    "class Solution:\n",
    "#     笨蛋做法 用dict 查询\n",
    "    def isValidSudoku(self, board: List[List[str]]) -> bool:\n",
    "        inverse = [[],[],[],[],[],[],[],[],[]]\n",
    "        matrix = [[],[],[],[],[],[],[],[],[]]\n",
    "        a=0\n",
    "        for row in board:\n",
    "            count =Counter(row)\n",
    "            for i in range(1,10):\n",
    "                if count.get(str(i))!=1 and count.get(str(i))!= None:\n",
    "                    print(1)\n",
    "                    return False\n",
    "            for colnum in range(9):\n",
    "                inverse[colnum].append (row[colnum])\n",
    "                matrix[3*(a//3)+colnum//3].append(row[colnum])\n",
    "            a+=1\n",
    "        for row in inverse:\n",
    "            count =Counter(row)\n",
    "            for i in range(1,10):\n",
    "                if count.get(str(i))!=1 and count.get(str(i))!= None:\n",
    "                    return False\n",
    "        for row in matrix:\n",
    "            count =Counter(row)\n",
    "            for i in range(1,10):\n",
    "                if count.get(str(i))!=1 and count.get(str(i))!= None: \n",
    "                    return False   \n",
    "        return True\n",
    "#     聪明做法 去除“.” 然后比较len(set) len() 如果不一样说明有重复\n",
    "#  list[]  + or append\n",
    "    def isValidSudoku1(self, board: List[List[str]]) -> bool:\n",
    "        myset =[]\n",
    "        for i in range(9):\n",
    "            for j in range(9):\n",
    "                if board[i][j]!='.':\n",
    "                    myset+=([(i,board[i][j]),(board[i][j],j),(i//3,j//3,board[i][j])])\n",
    "        return len(myset)==len(set(myset))\n",
    "    \n",
    "test=Solution()\n",
    "test.isValidSudoku1(board = \n",
    "[[\"5\",\"3\",\".\",\".\",\"7\",\".\",\".\",\".\",\".\"]\n",
    ",[\"6\",\".\",\".\",\"1\",\"9\",\"5\",\".\",\".\",\".\"]\n",
    ",[\".\",\"9\",\"8\",\".\",\".\",\".\",\".\",\"6\",\".\"]\n",
    ",[\"8\",\".\",\".\",\".\",\"6\",\".\",\".\",\".\",\"3\"]\n",
    ",[\"4\",\".\",\".\",\"8\",\".\",\"3\",\".\",\".\",\"1\"]\n",
    ",[\"7\",\".\",\".\",\".\",\"2\",\".\",\".\",\".\",\"6\"]\n",
    ",[\".\",\"6\",\".\",\".\",\".\",\".\",\"2\",\"8\",\".\"]\n",
    ",[\".\",\".\",\".\",\"4\",\"1\",\"9\",\".\",\".\",\"5\"]\n",
    ",[\".\",\".\",\".\",\".\",\"8\",\".\",\".\",\"7\",\"9\"]])"
   ]
  },
  {
   "cell_type": "code",
   "execution_count": null,
   "id": "45b6f4a7",
   "metadata": {},
   "outputs": [],
   "source": []
  }
 ],
 "metadata": {
  "kernelspec": {
   "display_name": "Python 3 (ipykernel)",
   "language": "python",
   "name": "python3"
  },
  "language_info": {
   "codemirror_mode": {
    "name": "ipython",
    "version": 3
   },
   "file_extension": ".py",
   "mimetype": "text/x-python",
   "name": "python",
   "nbconvert_exporter": "python",
   "pygments_lexer": "ipython3",
   "version": "3.9.7"
  }
 },
 "nbformat": 4,
 "nbformat_minor": 5
}
