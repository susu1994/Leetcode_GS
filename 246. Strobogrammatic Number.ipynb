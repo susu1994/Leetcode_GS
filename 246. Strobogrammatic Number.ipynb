{
 "cells": [
  {
   "cell_type": "markdown",
   "id": "66d3d0cc",
   "metadata": {},
   "source": [
    "Given a string num which represents an integer, return true if num is a strobogrammatic number.\n",
    "\n",
    "A strobogrammatic number is a number that looks the same when rotated 180 degrees (looked at upside down).\n",
    "\n",
    " \n",
    "\n",
    "Example 1:\n",
    "\n",
    "Input: num = \"69\"\n",
    "Output: true\n",
    "Example 2:\n",
    "\n",
    "Input: num = \"88\"\n",
    "Output: true\n",
    "Example 3:\n",
    "\n",
    "Input: num = \"962\"\n",
    "Output: false"
   ]
  },
  {
   "cell_type": "code",
   "execution_count": 16,
   "id": "d3422a29",
   "metadata": {},
   "outputs": [
    {
     "data": {
      "text/plain": [
       "True"
      ]
     },
     "execution_count": 16,
     "metadata": {},
     "output_type": "execute_result"
    }
   ],
   "source": [
    "from typing import List\n",
    "class Solution:\n",
    "    def isStrobogrammatic(self, num: str) -> bool:\n",
    "        nums = list(num)\n",
    "        num_list = list(map(int, nums))\n",
    "        aim=(0,1,8)\n",
    "        aim2=(6,9)\n",
    "        if len(num_list) ==1 and num_list[0] not in aim:\n",
    "            return False\n",
    "        if len(num_list)%2 ==1 and len(num_list)!=1:\n",
    "            if num_list[int(len(num_list)/2)] not in aim:\n",
    "                return False\n",
    "        for a in range(int(len(num_list)/2)):\n",
    "            if num_list[a] not in aim + aim2 :\n",
    "                return False\n",
    "            if num_list[a] != num_list[len(num_list)-a-1]:\n",
    "                if num_list[a] not in aim2 or num_list[len(num_list)-a-1] not in aim2:\n",
    "                    return False\n",
    "            else:\n",
    "                 if num_list[a] in aim2:\n",
    "                    return False      \n",
    "        return True\n",
    "test = Solution()\n",
    "test.isStrobogrammatic('69')"
   ]
  },
  {
   "cell_type": "code",
   "execution_count": null,
   "id": "6c878579",
   "metadata": {},
   "outputs": [],
   "source": []
  }
 ],
 "metadata": {
  "kernelspec": {
   "display_name": "Python 3 (ipykernel)",
   "language": "python",
   "name": "python3"
  },
  "language_info": {
   "codemirror_mode": {
    "name": "ipython",
    "version": 3
   },
   "file_extension": ".py",
   "mimetype": "text/x-python",
   "name": "python",
   "nbconvert_exporter": "python",
   "pygments_lexer": "ipython3",
   "version": "3.10.9"
  }
 },
 "nbformat": 4,
 "nbformat_minor": 5
}
